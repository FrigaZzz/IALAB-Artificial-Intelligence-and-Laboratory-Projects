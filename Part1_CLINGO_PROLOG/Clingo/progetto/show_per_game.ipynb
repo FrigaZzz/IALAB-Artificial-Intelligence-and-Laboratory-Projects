{
 "cells": [
  {
   "cell_type": "code",
   "execution_count": 2,
   "metadata": {},
   "outputs": [
    {
     "data": {
      "application/vnd.jupyter.widget-view+json": {
       "model_id": "3d1a7ca4dd974b5f95a6c65079468f08",
       "version_major": 2,
       "version_minor": 0
      },
      "text/plain": [
       "interactive(children=(Dropdown(description='Select a Team:', options=('a', 'b', 'c', 'd', 'e', 'f', 'g', 'h', …"
      ]
     },
     "execution_count": 2,
     "metadata": {},
     "output_type": "execute_result"
    }
   ],
   "source": [
    "import json\n",
    "import matplotlib.pyplot as plt\n",
    "import ipywidgets as widgets\n",
    "from IPython.display import display\n",
    "\n",
    "# Define a dictionary to hold counts for each city, day, and team\n",
    "city_counts = {}\n",
    "day_counts = {}\n",
    "team_counts = {}\n",
    "\n",
    "# Split the output into individual matches\n",
    "with open('out.json', 'r') as fp:\n",
    "    # Read the contents of the JSON file\n",
    "    matches = json.load(fp)['Call'][0]['Witnesses'][0]['Value']\n",
    "\n",
    "# Process each match\n",
    "for match in matches:\n",
    "    parts = match.split(',')\n",
    "    squadra1 = parts[0].split('(')[1].strip()  # Extract \"a\" from \"gioca(a,b,usfq,1)\"\n",
    "    squadra2 = parts[1].strip()\n",
    "    citta = parts[2].strip()\n",
    "    giornata = int(parts[-1].split(')')[0].strip())\n",
    "\n",
    "    # Count matches by team\n",
    "    team_counts[squadra1] = team_counts.get(squadra1, 0) + 1\n",
    "    team_counts[squadra2] = team_counts.get(squadra2, 0) + 1\n",
    "\n",
    "    # Count matches by city\n",
    "    if citta in city_counts:\n",
    "        city_counts[citta] += 1\n",
    "    else:\n",
    "        city_counts[citta] = 1\n",
    "\n",
    "    # Count matches by day\n",
    "    if giornata in day_counts:\n",
    "        day_counts[giornata] += 1\n",
    "    else:\n",
    "        day_counts[giornata] = 1\n",
    "\n",
    "# Calculate total matches\n",
    "total_matches: int = len(matches)\n",
    "\n",
    "# Create a dropdown widget for selecting a team\n",
    "team_dropdown = widgets.Dropdown(\n",
    "    options=list(team_counts.keys()),\n",
    "    description='Select a Team:'\n",
    ")\n",
    "\n",
    "# Create a function to update the plot based on the selected team\n",
    "# Create a function to update the plot based on the selected team\n",
    "def update_plot(selected_team):\n",
    "    # Clear the previous plot\n",
    "    clear_output(wait=True)\n",
    "\n",
    "    # Create a new plot\n",
    "    plt.figure(figsize=(10, 6))\n",
    "\n",
    "\n",
    "    # Process filtered matches for the selected team\n",
    "    team_day_counts_incasa = {}\n",
    "    team_day_counts_fuoricasa = {}\n",
    "    for match in matches:\n",
    "        parts = match.split(',')\n",
    "        squadra1 = parts[0].split('(')[1].strip()\n",
    "        squadra2 = parts[1].strip()\n",
    "        giornata = int(parts[-1].split(')')[0].strip())\n",
    "        \n",
    "        if squadra1 == selected_team:\n",
    "            team_day_counts_incasa[giornata] = team_day_counts_incasa.get(giornata, 0) + 1\n",
    "        elif squadra2 == selected_team:\n",
    "            team_day_counts_fuoricasa[giornata] = team_day_counts_fuoricasa.get(giornata, 0) + 1\n",
    "\n",
    "    days = range(1, 39)\n",
    "    incasa_matches = [team_day_counts_incasa.get(day, 0) for day in days]\n",
    "    fuoricasa_matches = [team_day_counts_fuoricasa.get(day, 0) for day in days]\n",
    "\n",
    "    # Plot incasa matches\n",
    "    plt.bar(days, incasa_matches, label='Incasa', width=0.4)\n",
    "\n",
    "    # Plot fuoricasa matches\n",
    "    plt.bar([day + 0.4 for day in days], fuoricasa_matches, label='Fuoricasa', width=0.4)\n",
    "\n",
    "    plt.xlabel(\"Day\")\n",
    "    plt.ylabel(\"Number of Matches\")\n",
    "    plt.title(f\"Matches Distribution for {selected_team} Across 38 Days\")\n",
    "    plt.legend()\n",
    "    plt.show()\n",
    "# Connect the dropdown to the update function\n",
    "widgets.interactive(update_plot, selected_team=team_dropdown)\n"
   ]
  }
 ],
 "metadata": {
  "kernelspec": {
   "display_name": "Python 3",
   "language": "python",
   "name": "python3"
  },
  "language_info": {
   "codemirror_mode": {
    "name": "ipython",
    "version": 3
   },
   "file_extension": ".py",
   "mimetype": "text/x-python",
   "name": "python",
   "nbconvert_exporter": "python",
   "pygments_lexer": "ipython3",
   "version": "3.10.11"
  },
  "orig_nbformat": 4
 },
 "nbformat": 4,
 "nbformat_minor": 2
}
